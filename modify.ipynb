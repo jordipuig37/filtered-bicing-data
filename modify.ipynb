{
 "cells": [
  {
   "cell_type": "code",
   "execution_count": 1,
   "metadata": {},
   "outputs": [],
   "source": [
    "import pandas as pd"
   ]
  },
  {
   "cell_type": "code",
   "execution_count": 2,
   "metadata": {},
   "outputs": [
    {
     "data": {
      "text/html": [
       "<div>\n",
       "<style scoped>\n",
       "    .dataframe tbody tr th:only-of-type {\n",
       "        vertical-align: middle;\n",
       "    }\n",
       "\n",
       "    .dataframe tbody tr th {\n",
       "        vertical-align: top;\n",
       "    }\n",
       "\n",
       "    .dataframe thead th {\n",
       "        text-align: right;\n",
       "    }\n",
       "</style>\n",
       "<table border=\"1\" class=\"dataframe\">\n",
       "  <thead>\n",
       "    <tr style=\"text-align: right;\">\n",
       "      <th></th>\n",
       "      <th>Unnamed: 0</th>\n",
       "      <th>datetime</th>\n",
       "      <th>station</th>\n",
       "      <th>value</th>\n",
       "      <th>biketype</th>\n",
       "      <th>operation</th>\n",
       "    </tr>\n",
       "  </thead>\n",
       "  <tbody>\n",
       "    <tr>\n",
       "      <th>0</th>\n",
       "      <td>0</td>\n",
       "      <td>2020-01-01T00:00:00</td>\n",
       "      <td>1</td>\n",
       "      <td>39.0</td>\n",
       "      <td>mech</td>\n",
       "      <td>pick</td>\n",
       "    </tr>\n",
       "    <tr>\n",
       "      <th>1</th>\n",
       "      <td>1</td>\n",
       "      <td>2020-01-02T00:00:00</td>\n",
       "      <td>1</td>\n",
       "      <td>54.0</td>\n",
       "      <td>mech</td>\n",
       "      <td>pick</td>\n",
       "    </tr>\n",
       "    <tr>\n",
       "      <th>2</th>\n",
       "      <td>2</td>\n",
       "      <td>2020-01-03T00:00:00</td>\n",
       "      <td>1</td>\n",
       "      <td>83.0</td>\n",
       "      <td>mech</td>\n",
       "      <td>pick</td>\n",
       "    </tr>\n",
       "    <tr>\n",
       "      <th>3</th>\n",
       "      <td>3</td>\n",
       "      <td>2020-01-04T00:00:00</td>\n",
       "      <td>1</td>\n",
       "      <td>48.0</td>\n",
       "      <td>mech</td>\n",
       "      <td>pick</td>\n",
       "    </tr>\n",
       "    <tr>\n",
       "      <th>4</th>\n",
       "      <td>4</td>\n",
       "      <td>2020-01-05T00:00:00</td>\n",
       "      <td>1</td>\n",
       "      <td>45.0</td>\n",
       "      <td>mech</td>\n",
       "      <td>pick</td>\n",
       "    </tr>\n",
       "  </tbody>\n",
       "</table>\n",
       "</div>"
      ],
      "text/plain": [
       "   Unnamed: 0             datetime  station  value biketype operation\n",
       "0           0  2020-01-01T00:00:00        1   39.0     mech      pick\n",
       "1           1  2020-01-02T00:00:00        1   54.0     mech      pick\n",
       "2           2  2020-01-03T00:00:00        1   83.0     mech      pick\n",
       "3           3  2020-01-04T00:00:00        1   48.0     mech      pick\n",
       "4           4  2020-01-05T00:00:00        1   45.0     mech      pick"
      ]
     },
     "execution_count": 2,
     "metadata": {},
     "output_type": "execute_result"
    }
   ],
   "source": [
    "long = pd.read_csv(\"2020_01_windowed_activity_long.csv\")\n",
    "long.head()"
   ]
  },
  {
   "cell_type": "code",
   "execution_count": 11,
   "metadata": {},
   "outputs": [
    {
     "data": {
      "text/html": [
       "<div>\n",
       "<style scoped>\n",
       "    .dataframe tbody tr th:only-of-type {\n",
       "        vertical-align: middle;\n",
       "    }\n",
       "\n",
       "    .dataframe tbody tr th {\n",
       "        vertical-align: top;\n",
       "    }\n",
       "\n",
       "    .dataframe thead th {\n",
       "        text-align: right;\n",
       "    }\n",
       "</style>\n",
       "<table border=\"1\" class=\"dataframe\">\n",
       "  <thead>\n",
       "    <tr style=\"text-align: right;\">\n",
       "      <th></th>\n",
       "      <th></th>\n",
       "      <th></th>\n",
       "      <th>value</th>\n",
       "    </tr>\n",
       "    <tr>\n",
       "      <th>station</th>\n",
       "      <th>biketype</th>\n",
       "      <th>operation</th>\n",
       "      <th></th>\n",
       "    </tr>\n",
       "  </thead>\n",
       "  <tbody>\n",
       "    <tr>\n",
       "      <th rowspan=\"4\" valign=\"top\">1</th>\n",
       "      <th rowspan=\"2\" valign=\"top\">elec</th>\n",
       "      <th>drop</th>\n",
       "      <td>14.806452</td>\n",
       "    </tr>\n",
       "    <tr>\n",
       "      <th>pick</th>\n",
       "      <td>14.806452</td>\n",
       "    </tr>\n",
       "    <tr>\n",
       "      <th rowspan=\"2\" valign=\"top\">mech</th>\n",
       "      <th>drop</th>\n",
       "      <td>55.903226</td>\n",
       "    </tr>\n",
       "    <tr>\n",
       "      <th>pick</th>\n",
       "      <td>61.903226</td>\n",
       "    </tr>\n",
       "    <tr>\n",
       "      <th>2</th>\n",
       "      <th>elec</th>\n",
       "      <th>drop</th>\n",
       "      <td>10.322581</td>\n",
       "    </tr>\n",
       "  </tbody>\n",
       "</table>\n",
       "</div>"
      ],
      "text/plain": [
       "                                value\n",
       "station biketype operation           \n",
       "1       elec     drop       14.806452\n",
       "                 pick       14.806452\n",
       "        mech     drop       55.903226\n",
       "                 pick       61.903226\n",
       "2       elec     drop       10.322581"
      ]
     },
     "execution_count": 11,
     "metadata": {},
     "output_type": "execute_result"
    }
   ],
   "source": [
    "aggregated = long.groupby([\"station\", \"biketype\", \"operation\"]).mean()\n",
    "aggregated = aggregated.drop(columns = \"Unnamed: 0\")\n",
    "aggregated.head()"
   ]
  },
  {
   "cell_type": "code",
   "execution_count": 15,
   "metadata": {},
   "outputs": [],
   "source": [
    "dropped = aggregated[aggregated[\"value\"]!=0]"
   ]
  },
  {
   "cell_type": "code",
   "execution_count": 16,
   "metadata": {},
   "outputs": [],
   "source": [
    "dropped.to_csv(\"2020_01_.csv\")"
   ]
  },
  {
   "cell_type": "code",
   "execution_count": null,
   "metadata": {},
   "outputs": [],
   "source": []
  }
 ],
 "metadata": {
  "kernelspec": {
   "display_name": "Python 3",
   "language": "python",
   "name": "python3"
  },
  "language_info": {
   "codemirror_mode": {
    "name": "ipython",
    "version": 3
   },
   "file_extension": ".py",
   "mimetype": "text/x-python",
   "name": "python",
   "nbconvert_exporter": "python",
   "pygments_lexer": "ipython3",
   "version": "3.7.3"
  }
 },
 "nbformat": 4,
 "nbformat_minor": 4
}
